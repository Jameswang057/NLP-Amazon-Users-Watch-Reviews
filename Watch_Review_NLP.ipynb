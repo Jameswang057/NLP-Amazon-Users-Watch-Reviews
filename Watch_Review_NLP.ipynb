{
 "cells": [
  {
   "cell_type": "markdown",
   "metadata": {
    "id": "Xp3LTq59E8UK"
   },
   "source": [
    "# Document Clustering and Topic Modeling "
   ]
  },
  {
   "cell_type": "markdown",
   "metadata": {
    "id": "mS-ob0Q8E8UM"
   },
   "source": [
    "*In* this project, we use unsupervised learning models to cluster unlabeled documents into different groups, visualize the results and identify their latent topics/structures."
   ]
  },
  {
   "cell_type": "markdown",
   "metadata": {
    "id": "Nc9DK62BE8UP"
   },
   "source": [
    "# Part 1: Load Data"
   ]
  },
  {
   "cell_type": "code",
   "execution_count": 1,
   "metadata": {
    "colab": {
     "base_uri": "https://localhost:8080/"
    },
    "id": "OjdBV8gGE8UQ",
    "outputId": "2013fe14-94e9-4665-d8d5-f58625985984"
   },
   "outputs": [
    {
     "name": "stderr",
     "output_type": "stream",
     "text": [
      "[nltk_data] Downloading package punkt to\n",
      "[nltk_data]     C:\\Users\\86186\\AppData\\Roaming\\nltk_data...\n",
      "[nltk_data]   Package punkt is already up-to-date!\n",
      "[nltk_data] Downloading package stopwords to\n",
      "[nltk_data]     C:\\Users\\86186\\AppData\\Roaming\\nltk_data...\n",
      "[nltk_data]   Package stopwords is already up-to-date!\n"
     ]
    },
    {
     "data": {
      "text/plain": [
       "True"
      ]
     },
     "execution_count": 1,
     "metadata": {},
     "output_type": "execute_result"
    }
   ],
   "source": [
    "import numpy as np\n",
    "import pandas as pd\n",
    "import nltk\n",
    "# import gensim\n",
    "\n",
    "from sklearn.feature_extraction.text import TfidfVectorizer\n",
    "import matplotlib.pyplot as plt\n",
    "\n",
    "nltk.download('punkt')\n",
    "nltk.download('stopwords')"
   ]
  },
  {
   "cell_type": "code",
   "execution_count": 2,
   "metadata": {
    "colab": {
     "base_uri": "https://localhost:8080/"
    },
    "id": "sIj2Z8T70FZD",
    "outputId": "5ea4bf67-fd3e-488c-e69b-01dbf9d68e32"
   },
   "outputs": [
    {
     "name": "stderr",
     "output_type": "stream",
     "text": [
      "b'Skipping line 8704: expected 15 fields, saw 22\\nSkipping line 16933: expected 15 fields, saw 22\\nSkipping line 23726: expected 15 fields, saw 22\\n'\n",
      "b'Skipping line 85637: expected 15 fields, saw 22\\n'\n",
      "b'Skipping line 132136: expected 15 fields, saw 22\\nSkipping line 158070: expected 15 fields, saw 22\\nSkipping line 166007: expected 15 fields, saw 22\\nSkipping line 171877: expected 15 fields, saw 22\\nSkipping line 177756: expected 15 fields, saw 22\\nSkipping line 181773: expected 15 fields, saw 22\\nSkipping line 191085: expected 15 fields, saw 22\\nSkipping line 196273: expected 15 fields, saw 22\\nSkipping line 196331: expected 15 fields, saw 22\\n'\n",
      "b'Skipping line 197000: expected 15 fields, saw 22\\nSkipping line 197011: expected 15 fields, saw 22\\nSkipping line 197432: expected 15 fields, saw 22\\nSkipping line 208016: expected 15 fields, saw 22\\nSkipping line 214110: expected 15 fields, saw 22\\nSkipping line 244328: expected 15 fields, saw 22\\nSkipping line 248519: expected 15 fields, saw 22\\nSkipping line 254936: expected 15 fields, saw 22\\n'\n",
      "b'Skipping line 272057: expected 15 fields, saw 22\\nSkipping line 293214: expected 15 fields, saw 22\\nSkipping line 310507: expected 15 fields, saw 22\\nSkipping line 312306: expected 15 fields, saw 22\\nSkipping line 316296: expected 15 fields, saw 22\\n'\n",
      "b'Skipping line 336028: expected 15 fields, saw 22\\nSkipping line 344885: expected 15 fields, saw 22\\nSkipping line 352551: expected 15 fields, saw 22\\n'\n",
      "b'Skipping line 408773: expected 15 fields, saw 22\\nSkipping line 434535: expected 15 fields, saw 22\\n'\n",
      "b'Skipping line 581593: expected 15 fields, saw 22\\n'\n",
      "b'Skipping line 652409: expected 15 fields, saw 22\\n'\n"
     ]
    }
   ],
   "source": [
    "# Load data into dataframe\n",
    "df = pd.read_csv('watch_reviews.tsv', sep='\\t', error_bad_lines=False)"
   ]
  },
  {
   "cell_type": "code",
   "execution_count": 3,
   "metadata": {
    "colab": {
     "base_uri": "https://localhost:8080/",
     "height": 547
    },
    "id": "oVIWPym-8MnJ",
    "outputId": "7f537cbc-1a0b-4caf-cd97-382b2a40e1bb"
   },
   "outputs": [
    {
     "data": {
      "text/html": [
       "<div>\n",
       "<style scoped>\n",
       "    .dataframe tbody tr th:only-of-type {\n",
       "        vertical-align: middle;\n",
       "    }\n",
       "\n",
       "    .dataframe tbody tr th {\n",
       "        vertical-align: top;\n",
       "    }\n",
       "\n",
       "    .dataframe thead th {\n",
       "        text-align: right;\n",
       "    }\n",
       "</style>\n",
       "<table border=\"1\" class=\"dataframe\">\n",
       "  <thead>\n",
       "    <tr style=\"text-align: right;\">\n",
       "      <th></th>\n",
       "      <th>marketplace</th>\n",
       "      <th>customer_id</th>\n",
       "      <th>review_id</th>\n",
       "      <th>product_id</th>\n",
       "      <th>product_parent</th>\n",
       "      <th>product_title</th>\n",
       "      <th>product_category</th>\n",
       "      <th>star_rating</th>\n",
       "      <th>helpful_votes</th>\n",
       "      <th>total_votes</th>\n",
       "      <th>vine</th>\n",
       "      <th>verified_purchase</th>\n",
       "      <th>review_headline</th>\n",
       "      <th>review_body</th>\n",
       "      <th>review_date</th>\n",
       "    </tr>\n",
       "  </thead>\n",
       "  <tbody>\n",
       "    <tr>\n",
       "      <th>0</th>\n",
       "      <td>US</td>\n",
       "      <td>3653882</td>\n",
       "      <td>R3O9SGZBVQBV76</td>\n",
       "      <td>B00FALQ1ZC</td>\n",
       "      <td>937001370</td>\n",
       "      <td>Invicta Women's 15150 \"Angel\" 18k Yellow Gold ...</td>\n",
       "      <td>Watches</td>\n",
       "      <td>5</td>\n",
       "      <td>0</td>\n",
       "      <td>0</td>\n",
       "      <td>N</td>\n",
       "      <td>Y</td>\n",
       "      <td>Five Stars</td>\n",
       "      <td>Absolutely love this watch! Get compliments al...</td>\n",
       "      <td>2015-08-31</td>\n",
       "    </tr>\n",
       "    <tr>\n",
       "      <th>1</th>\n",
       "      <td>US</td>\n",
       "      <td>14661224</td>\n",
       "      <td>RKH8BNC3L5DLF</td>\n",
       "      <td>B00D3RGO20</td>\n",
       "      <td>484010722</td>\n",
       "      <td>Kenneth Cole New York Women's KC4944 Automatic...</td>\n",
       "      <td>Watches</td>\n",
       "      <td>5</td>\n",
       "      <td>0</td>\n",
       "      <td>0</td>\n",
       "      <td>N</td>\n",
       "      <td>Y</td>\n",
       "      <td>I love thiswatch it keeps time wonderfully</td>\n",
       "      <td>I love this watch it keeps time wonderfully.</td>\n",
       "      <td>2015-08-31</td>\n",
       "    </tr>\n",
       "    <tr>\n",
       "      <th>2</th>\n",
       "      <td>US</td>\n",
       "      <td>27324930</td>\n",
       "      <td>R2HLE8WKZSU3NL</td>\n",
       "      <td>B00DKYC7TK</td>\n",
       "      <td>361166390</td>\n",
       "      <td>Ritche 22mm Black Stainless Steel Bracelet Wat...</td>\n",
       "      <td>Watches</td>\n",
       "      <td>2</td>\n",
       "      <td>1</td>\n",
       "      <td>1</td>\n",
       "      <td>N</td>\n",
       "      <td>Y</td>\n",
       "      <td>Two Stars</td>\n",
       "      <td>Scratches</td>\n",
       "      <td>2015-08-31</td>\n",
       "    </tr>\n",
       "    <tr>\n",
       "      <th>3</th>\n",
       "      <td>US</td>\n",
       "      <td>7211452</td>\n",
       "      <td>R31U3UH5AZ42LL</td>\n",
       "      <td>B000EQS1JW</td>\n",
       "      <td>958035625</td>\n",
       "      <td>Citizen Men's BM8180-03E Eco-Drive Stainless S...</td>\n",
       "      <td>Watches</td>\n",
       "      <td>5</td>\n",
       "      <td>0</td>\n",
       "      <td>0</td>\n",
       "      <td>N</td>\n",
       "      <td>Y</td>\n",
       "      <td>Five Stars</td>\n",
       "      <td>It works well on me. However, I found cheaper ...</td>\n",
       "      <td>2015-08-31</td>\n",
       "    </tr>\n",
       "    <tr>\n",
       "      <th>4</th>\n",
       "      <td>US</td>\n",
       "      <td>12733322</td>\n",
       "      <td>R2SV659OUJ945Y</td>\n",
       "      <td>B00A6GFD7S</td>\n",
       "      <td>765328221</td>\n",
       "      <td>Orient ER27009B Men's Symphony Automatic Stain...</td>\n",
       "      <td>Watches</td>\n",
       "      <td>4</td>\n",
       "      <td>0</td>\n",
       "      <td>0</td>\n",
       "      <td>N</td>\n",
       "      <td>Y</td>\n",
       "      <td>Beautiful face, but cheap sounding links</td>\n",
       "      <td>Beautiful watch face.  The band looks nice all...</td>\n",
       "      <td>2015-08-31</td>\n",
       "    </tr>\n",
       "  </tbody>\n",
       "</table>\n",
       "</div>"
      ],
      "text/plain": [
       "  marketplace  customer_id       review_id  product_id  product_parent  \\\n",
       "0          US      3653882  R3O9SGZBVQBV76  B00FALQ1ZC       937001370   \n",
       "1          US     14661224   RKH8BNC3L5DLF  B00D3RGO20       484010722   \n",
       "2          US     27324930  R2HLE8WKZSU3NL  B00DKYC7TK       361166390   \n",
       "3          US      7211452  R31U3UH5AZ42LL  B000EQS1JW       958035625   \n",
       "4          US     12733322  R2SV659OUJ945Y  B00A6GFD7S       765328221   \n",
       "\n",
       "                                       product_title product_category  \\\n",
       "0  Invicta Women's 15150 \"Angel\" 18k Yellow Gold ...          Watches   \n",
       "1  Kenneth Cole New York Women's KC4944 Automatic...          Watches   \n",
       "2  Ritche 22mm Black Stainless Steel Bracelet Wat...          Watches   \n",
       "3  Citizen Men's BM8180-03E Eco-Drive Stainless S...          Watches   \n",
       "4  Orient ER27009B Men's Symphony Automatic Stain...          Watches   \n",
       "\n",
       "   star_rating  helpful_votes  total_votes vine verified_purchase  \\\n",
       "0            5              0            0    N                 Y   \n",
       "1            5              0            0    N                 Y   \n",
       "2            2              1            1    N                 Y   \n",
       "3            5              0            0    N                 Y   \n",
       "4            4              0            0    N                 Y   \n",
       "\n",
       "                              review_headline  \\\n",
       "0                                  Five Stars   \n",
       "1  I love thiswatch it keeps time wonderfully   \n",
       "2                                   Two Stars   \n",
       "3                                  Five Stars   \n",
       "4    Beautiful face, but cheap sounding links   \n",
       "\n",
       "                                         review_body review_date  \n",
       "0  Absolutely love this watch! Get compliments al...  2015-08-31  \n",
       "1       I love this watch it keeps time wonderfully.  2015-08-31  \n",
       "2                                          Scratches  2015-08-31  \n",
       "3  It works well on me. However, I found cheaper ...  2015-08-31  \n",
       "4  Beautiful watch face.  The band looks nice all...  2015-08-31  "
      ]
     },
     "execution_count": 3,
     "metadata": {},
     "output_type": "execute_result"
    }
   ],
   "source": [
    "df.head()"
   ]
  },
  {
   "cell_type": "code",
   "execution_count": 4,
   "metadata": {
    "id": "aoRSRJzZA7eT"
   },
   "outputs": [],
   "source": [
    "# Remove missing value\n",
    "df.dropna(subset=['review_body'],inplace=True)"
   ]
  },
  {
   "cell_type": "code",
   "execution_count": 5,
   "metadata": {
    "id": "bbRq4wqlpV_s"
   },
   "outputs": [],
   "source": [
    "df.reset_index(inplace=True, drop=True)"
   ]
  },
  {
   "cell_type": "code",
   "execution_count": 6,
   "metadata": {
    "colab": {
     "base_uri": "https://localhost:8080/"
    },
    "id": "oDJY4z3qoB77",
    "outputId": "73f62eed-fec6-41ff-e70a-5fc4d3d743fe"
   },
   "outputs": [
    {
     "name": "stdout",
     "output_type": "stream",
     "text": [
      "<class 'pandas.core.frame.DataFrame'>\n",
      "RangeIndex: 960056 entries, 0 to 960055\n",
      "Data columns (total 15 columns):\n",
      " #   Column             Non-Null Count   Dtype \n",
      "---  ------             --------------   ----- \n",
      " 0   marketplace        960056 non-null  object\n",
      " 1   customer_id        960056 non-null  int64 \n",
      " 2   review_id          960056 non-null  object\n",
      " 3   product_id         960056 non-null  object\n",
      " 4   product_parent     960056 non-null  int64 \n",
      " 5   product_title      960054 non-null  object\n",
      " 6   product_category   960056 non-null  object\n",
      " 7   star_rating        960056 non-null  int64 \n",
      " 8   helpful_votes      960056 non-null  int64 \n",
      " 9   total_votes        960056 non-null  int64 \n",
      " 10  vine               960056 non-null  object\n",
      " 11  verified_purchase  960056 non-null  object\n",
      " 12  review_headline    960049 non-null  object\n",
      " 13  review_body        960056 non-null  object\n",
      " 14  review_date        960052 non-null  object\n",
      "dtypes: int64(5), object(10)\n",
      "memory usage: 109.9+ MB\n"
     ]
    }
   ],
   "source": [
    "df.info()"
   ]
  },
  {
   "cell_type": "code",
   "execution_count": 7,
   "metadata": {
    "id": "VbKDogiW79a6"
   },
   "outputs": [],
   "source": [
    "# use the first 1000 data as our training data\n",
    "data = df.loc[:999, 'review_body'].tolist()"
   ]
  },
  {
   "cell_type": "code",
   "execution_count": 8,
   "metadata": {
    "colab": {
     "base_uri": "https://localhost:8080/"
    },
    "id": "PCp4l6u2zj9b",
    "outputId": "34d13937-8c2d-4a09-c2b1-721b0b1d29f8"
   },
   "outputs": [
    {
     "data": {
      "text/plain": [
       "['Absolutely love this watch! Get compliments almost every time I wear it. Dainty.',\n",
       " 'I love this watch it keeps time wonderfully.',\n",
       " 'Scratches',\n",
       " 'It works well on me. However, I found cheaper prices in other places after making the purchase',\n",
       " \"Beautiful watch face.  The band looks nice all around.  The links do make that squeaky cheapo noise when you swing it back and forth on your wrist which can be embarrassing in front of watch enthusiasts.  However, to the naked eye from afar, you can't tell the links are cheap or folded because it is well polished and brushed and the folds are pretty tight for the most part.<br /><br />I love the new member of my collection and it looks great.  I've had it for about a week and so far it has kept good time despite day 1 which is typical of a new mechanical watch\",\n",
       " 'i love this watch for my purpose, about the people complaining should of done their research better before buying. dumb people.',\n",
       " 'for my wife and she loved it, looks great and a great price!',\n",
       " 'I was about to buy this thinking it was a Swiss Army Infantry watch-- the description uses the words infantry and army--- when I realized it must be a fraud for $12.00. This should not be offered on Amazon-- it is designed to confuse consumers.',\n",
       " \"Watch is perfect. Rugged with the metal &#34;Bull Bars&#34;. The red accents are a great touch and I get compliments when wearing it. If you are worried about being able to read this in sunlight or in the dark don't! The LED ilumination works great! I might even get this in a different color for my next G-Shock purchase!\",\n",
       " 'Great quality and build.<br />The motors are really silent.<br />After fiddling with the settings my watches are always charged and ready to use.']"
      ]
     },
     "execution_count": 8,
     "metadata": {},
     "output_type": "execute_result"
    }
   ],
   "source": [
    "data[:10]"
   ]
  },
  {
   "cell_type": "markdown",
   "metadata": {
    "id": "iQ4KGnVeE8UX"
   },
   "source": [
    "# Part 2: Tokenizing and Stemming"
   ]
  },
  {
   "cell_type": "markdown",
   "metadata": {
    "collapsed": true,
    "id": "GHHIaFATE8UY"
   },
   "source": [
    "Load stopwords and stemmer function from NLTK library.\n",
    "Stop words are words like \"a\", \"the\", or \"in\" which don't convey significant meaning.\n",
    "Stemming is the process of breaking a word down into its root."
   ]
  },
  {
   "cell_type": "code",
   "execution_count": 9,
   "metadata": {
    "colab": {
     "base_uri": "https://localhost:8080/"
    },
    "id": "3gSwiUBRE8UY",
    "outputId": "a8ee3605-609f-45aa-ed4d-e48d1d0bd36e"
   },
   "outputs": [
    {
     "name": "stdout",
     "output_type": "stream",
     "text": [
      "We use 183 stop-words from nltk library.\n",
      "['i', 'me', 'my', 'myself', 'we', 'our', 'ours', 'ourselves', 'you', \"you're\"]\n"
     ]
    }
   ],
   "source": [
    "# Use nltk's English stopwords.\n",
    "stopwords = nltk.corpus.stopwords.words('english') #stopwords.append(\"n't\")\n",
    "stopwords.append(\"'s\")\n",
    "stopwords.append(\"'m\")\n",
    "stopwords.append(\"br\") #html <br>\n",
    "stopwords.append(\"watch\")\n",
    "\n",
    "print (\"We use \" + str(len(stopwords)) + \" stop-words from nltk library.\")\n",
    "print (stopwords[:10])"
   ]
  },
  {
   "cell_type": "markdown",
   "metadata": {
    "id": "WtDXMCeME8Uh"
   },
   "source": [
    "Use our defined functions to analyze (i.e. tokenize, stem) our reviews."
   ]
  },
  {
   "cell_type": "code",
   "execution_count": 10,
   "metadata": {
    "id": "e50130X8E8Uc"
   },
   "outputs": [],
   "source": [
    "from nltk.stem.snowball import SnowballStemmer\n",
    "# from nltk.stem import WordNetLemmatizer \n",
    "\n",
    "stemmer = SnowballStemmer(\"english\")\n",
    "\n",
    "# tokenization and stemming\n",
    "def tokenization_and_stemming(text):\n",
    "    tokens = []\n",
    "    # exclude stop words and tokenize the document, generate a list of string \n",
    "    for word in nltk.word_tokenize(text):\n",
    "        if word.lower() not in stopwords:\n",
    "            tokens.append(word.lower())\n",
    "\n",
    "    filtered_tokens = []\n",
    "    \n",
    "    # filter out any tokens not containing letters (e.g., numeric tokens, raw punctuation)\n",
    "    for token in tokens:\n",
    "        if token.isalpha():\n",
    "            filtered_tokens.append(token)\n",
    "            \n",
    "    # stemming\n",
    "    stems = [stemmer.stem(t) for t in filtered_tokens]\n",
    "    return stems"
   ]
  },
  {
   "cell_type": "code",
   "execution_count": 11,
   "metadata": {
    "colab": {
     "base_uri": "https://localhost:8080/"
    },
    "id": "ywzEhcMIN5K6",
    "outputId": "979e8889-db9c-48ef-fdc5-6c8ea788d06c"
   },
   "outputs": [
    {
     "data": {
      "text/plain": [
       "['absolut',\n",
       " 'love',\n",
       " 'get',\n",
       " 'compliment',\n",
       " 'almost',\n",
       " 'everi',\n",
       " 'time',\n",
       " 'wear',\n",
       " 'dainti']"
      ]
     },
     "execution_count": 11,
     "metadata": {},
     "output_type": "execute_result"
    }
   ],
   "source": [
    "tokenization_and_stemming(data[0])"
   ]
  },
  {
   "cell_type": "code",
   "execution_count": 12,
   "metadata": {
    "colab": {
     "base_uri": "https://localhost:8080/",
     "height": 35
    },
    "id": "OpVJjUke4YYp",
    "outputId": "080d1efa-ce9e-478d-926f-5bfcd1f58306"
   },
   "outputs": [
    {
     "data": {
      "text/plain": [
       "'Absolutely love this watch! Get compliments almost every time I wear it. Dainty.'"
      ]
     },
     "execution_count": 12,
     "metadata": {},
     "output_type": "execute_result"
    }
   ],
   "source": [
    "data[0]"
   ]
  },
  {
   "cell_type": "markdown",
   "metadata": {
    "collapsed": true,
    "id": "QAWdFqL5E8Uo"
   },
   "source": [
    "# Part 3: TF-IDF\n",
    "\n",
    "TF: Term Frequency\n",
    "\n",
    "IDF: Inverse Document Frequency"
   ]
  },
  {
   "cell_type": "code",
   "execution_count": 13,
   "metadata": {
    "colab": {
     "base_uri": "https://localhost:8080/"
    },
    "id": "k-XH7R4pE8Up",
    "outputId": "04a89424-0dab-4a8d-afbd-5be23b902723"
   },
   "outputs": [
    {
     "name": "stderr",
     "output_type": "stream",
     "text": [
      "C:\\Users\\86186\\anaconda3\\lib\\site-packages\\sklearn\\feature_extraction\\text.py:528: UserWarning: The parameter 'token_pattern' will not be used since 'tokenizer' is not None'\n",
      "  warnings.warn(\n",
      "C:\\Users\\86186\\anaconda3\\lib\\site-packages\\sklearn\\feature_extraction\\text.py:409: UserWarning: Your stop_words may be inconsistent with your preprocessing. Tokenizing the stop words generated tokens ['afterward', 'alon', 'alreadi', 'alway', 'anoth', 'anyon', 'anyth', 'anywher', 'becam', 'becom', 'besid', 'cri', 'describ', 'els', 'elsewher', 'empti', 'everi', 'everyon', 'everyth', 'everywher', 'fifti', 'forti', 'henc', 'hereaft', 'herebi', 'howev', 'hundr', 'inde', 'mani', 'meanwhil', 'moreov', 'nobodi', 'noon', 'noth', 'nowher', 'otherwis', 'perhap', 'pleas', 'sever', 'sinc', 'sincer', 'sixti', 'someon', 'someth', 'sometim', 'somewher', 'thenc', 'thereaft', 'therebi', 'therefor', 'togeth', 'twelv', 'twenti', 'whatev', 'whenc', 'whenev', 'wherea', 'whereaft', 'wherebi', 'wherev'] not in stop_words.\n",
      "  warnings.warn(\n"
     ]
    },
    {
     "name": "stdout",
     "output_type": "stream",
     "text": [
      "In total, there are 1000 reviews and 239 terms.\n"
     ]
    }
   ],
   "source": [
    "from sklearn.feature_extraction.text import TfidfVectorizer\n",
    "# define vectorizer parameters\n",
    "# TfidfVectorizer will help us to create tf-idf matrix\n",
    "# max_df : maximum document frequency for the given word\n",
    "# min_df : minimum document frequency for the given word\n",
    "# max_features: maximum number of words\n",
    "# use_idf: if not true, we only calculate tf\n",
    "# stop_words : built-in stop words\n",
    "# tokenizer: how to tokenize the document\n",
    "# ngram_range: (min_value, max_value), eg. (1, 3) means the result will include 1-gram, 2-gram, 3-gram\n",
    "tfidf_model = TfidfVectorizer(max_df=0.99, max_features=1000,\n",
    "                                 min_df=0.01, stop_words='english',\n",
    "                                 use_idf=True, tokenizer=tokenization_and_stemming, ngram_range=(1,1))\n",
    "\n",
    "tfidf_matrix = tfidf_model.fit_transform(data) #fit the vectorizer to synopses\n",
    "\n",
    "print (\"In total, there are \" + str(tfidf_matrix.shape[0]) + \\\n",
    "      \" reviews and \" + str(tfidf_matrix.shape[1]) + \" terms.\")"
   ]
  },
  {
   "cell_type": "code",
   "execution_count": 14,
   "metadata": {
    "colab": {
     "base_uri": "https://localhost:8080/"
    },
    "id": "1VpryOuvM9jV",
    "outputId": "cf00d4fc-3631-4306-e193-f55e4d260435"
   },
   "outputs": [
    {
     "data": {
      "text/plain": [
       "<1000x239 sparse matrix of type '<class 'numpy.float64'>'\n",
       "\twith 6891 stored elements in Compressed Sparse Row format>"
      ]
     },
     "execution_count": 14,
     "metadata": {},
     "output_type": "execute_result"
    }
   ],
   "source": [
    "tfidf_matrix"
   ]
  },
  {
   "cell_type": "code",
   "execution_count": 15,
   "metadata": {
    "colab": {
     "base_uri": "https://localhost:8080/"
    },
    "id": "y1JYAhxDKmmE",
    "outputId": "48a93a1d-9aac-4791-87ad-cb61070ac5c8"
   },
   "outputs": [
    {
     "data": {
      "text/plain": [
       "array([[0.       , 0.5125863, 0.       , ..., 0.       , 0.       ,\n",
       "        0.       ],\n",
       "       [0.       , 0.       , 0.       , ..., 0.       , 0.       ,\n",
       "        0.       ],\n",
       "       [0.       , 0.       , 0.       , ..., 0.       , 0.       ,\n",
       "        0.       ],\n",
       "       ...,\n",
       "       [0.       , 0.       , 0.       , ..., 0.       , 0.       ,\n",
       "        0.       ],\n",
       "       [0.       , 0.       , 0.       , ..., 0.       , 0.       ,\n",
       "        0.       ],\n",
       "       [0.       , 0.       , 0.       , ..., 0.       , 0.       ,\n",
       "        0.       ]])"
      ]
     },
     "execution_count": 15,
     "metadata": {},
     "output_type": "execute_result"
    }
   ],
   "source": [
    "tfidf_matrix.toarray() #todense()"
   ]
  },
  {
   "cell_type": "code",
   "execution_count": 16,
   "metadata": {
    "colab": {
     "base_uri": "https://localhost:8080/"
    },
    "id": "oYaO5bRhCmyC",
    "outputId": "f59ca303-6c3d-4f56-fbc4-3f16faeac206"
   },
   "outputs": [
    {
     "data": {
      "text/plain": [
       "matrix([[0.       , 0.5125863, 0.       , ..., 0.       , 0.       ,\n",
       "         0.       ],\n",
       "        [0.       , 0.       , 0.       , ..., 0.       , 0.       ,\n",
       "         0.       ],\n",
       "        [0.       , 0.       , 0.       , ..., 0.       , 0.       ,\n",
       "         0.       ],\n",
       "        ...,\n",
       "        [0.       , 0.       , 0.       , ..., 0.       , 0.       ,\n",
       "         0.       ],\n",
       "        [0.       , 0.       , 0.       , ..., 0.       , 0.       ,\n",
       "         0.       ],\n",
       "        [0.       , 0.       , 0.       , ..., 0.       , 0.       ,\n",
       "         0.       ]])"
      ]
     },
     "execution_count": 16,
     "metadata": {},
     "output_type": "execute_result"
    }
   ],
   "source": [
    "tfidf_matrix.todense()"
   ]
  },
  {
   "cell_type": "code",
   "execution_count": 17,
   "metadata": {
    "colab": {
     "base_uri": "https://localhost:8080/"
    },
    "id": "UTGoc6KkCZ4Q",
    "outputId": "a4f1f7b7-954e-417b-899b-aca2fd4487d7"
   },
   "outputs": [
    {
     "name": "stdout",
     "output_type": "stream",
     "text": [
      "<class 'numpy.ndarray'>\n"
     ]
    }
   ],
   "source": [
    "print(type(tfidf_matrix.toarray()))"
   ]
  },
  {
   "cell_type": "code",
   "execution_count": 18,
   "metadata": {
    "colab": {
     "base_uri": "https://localhost:8080/"
    },
    "id": "PEn9UdG1Celo",
    "outputId": "2a076633-8cb2-45e0-8479-bfcee7930f69"
   },
   "outputs": [
    {
     "name": "stdout",
     "output_type": "stream",
     "text": [
      "<class 'numpy.matrix'>\n"
     ]
    }
   ],
   "source": [
    "print(type(tfidf_matrix.todense()))"
   ]
  },
  {
   "cell_type": "markdown",
   "metadata": {
    "id": "whu1pCOiE8Uv"
   },
   "source": [
    "Save the terms identified by TF-IDF."
   ]
  },
  {
   "cell_type": "code",
   "execution_count": 19,
   "metadata": {
    "id": "lLdKk6n-E8Uw"
   },
   "outputs": [],
   "source": [
    "# words\n",
    "tf_selected_words = tfidf_model.get_feature_names_out()"
   ]
  },
  {
   "cell_type": "code",
   "execution_count": 20,
   "metadata": {
    "colab": {
     "base_uri": "https://localhost:8080/"
    },
    "id": "6mWvzNWQFB26",
    "outputId": "57ded01a-9178-4595-a503-89bb09ee1d97"
   },
   "outputs": [
    {
     "data": {
      "text/plain": [
       "array(['abl', 'absolut', 'accur', 'actual', 'adjust', 'alarm', 'alreadi',\n",
       "       'alway', 'amaz', 'amazon', 'anoth', 'arm', 'arriv', 'automat',\n",
       "       'awesom', 'bad', 'band', 'batteri', 'beauti', 'best', 'better',\n",
       "       'big', 'bit', 'black', 'blue', 'bought', 'box', 'bracelet',\n",
       "       'brand', 'break', 'bright', 'broke', 'button', 'buy', 'ca', 'came',\n",
       "       'case', 'casio', 'chang', 'cheap', 'clasp', 'classi', 'clock',\n",
       "       'color', 'come', 'comfort', 'compliment', 'cool', 'cost', 'crown',\n",
       "       'crystal', 'dark', 'date', 'daughter', 'day', 'deal', 'definit',\n",
       "       'deliveri', 'design', 'dial', 'differ', 'difficult', 'disappoint',\n",
       "       'display', 'dress', 'durabl', 'easi', 'easili', 'end', 'everi',\n",
       "       'everyday', 'everyth', 'exact', 'excel', 'expect', 'expens',\n",
       "       'face', 'fair', 'far', 'fast', 'featur', 'feel', 'fell', 'fine',\n",
       "       'finish', 'fit', 'function', 'gave', 'gift', 'gold', 'good', 'got',\n",
       "       'great', 'hand', 'happi', 'hard', 'heavi', 'high', 'hold',\n",
       "       'honest', 'hope', 'hour', 'howev', 'husband', 'includ', 'instruct',\n",
       "       'invicta', 'issu', 'item', 'kept', 'know', 'larg', 'leather',\n",
       "       'light', 'like', 'link', 'littl', 'long', 'look', 'lot', 'love',\n",
       "       'low', 'make', 'mani', 'metal', 'minut', 'model', 'money', 'month',\n",
       "       'movement', 'need', 'new', 'nice', 'night', 'normal', 'number',\n",
       "       'old', 'open', 'oper', 'order', 'origin', 'overal', 'packag',\n",
       "       'paid', 'pay', 'perfect', 'perform', 'person', 'pictur', 'piec',\n",
       "       'pin', 'place', 'plastic', 'pleas', 'point', 'press', 'pretti',\n",
       "       'price', 'problem', 'product', 'purchas', 'qualiti', 'quick',\n",
       "       'quit', 'rate', 'read', 'real', 'realli', 'reason', 'receiv',\n",
       "       'recommend', 'red', 'remov', 'replac', 'resist', 'return',\n",
       "       'review', 'right', 'run', 'said', 'say', 'screw', 'second',\n",
       "       'seiko', 'seller', 'send', 'sent', 'set', 'sever', 'ship', 'short',\n",
       "       'simpl', 'sinc', 'size', 'small', 'smaller', 'solid', 'someth',\n",
       "       'somewhat', 'son', 'star', 'start', 'stop', 'strap', 'sturdi',\n",
       "       'style', 'stylish', 'super', 'sure', 'surpris', 'swim', 'tell',\n",
       "       'thank', 'thing', 'think', 'thought', 'time', 'timex', 'tini',\n",
       "       'tri', 'turn', 'use', 'valu', 'want', 'watch', 'water', 'way',\n",
       "       'wear', 'week', 'weight', 'went', 'wife', 'wind', 'wish', 'work',\n",
       "       'worn', 'worth', 'wrist', 'year'], dtype=object)"
      ]
     },
     "execution_count": 20,
     "metadata": {},
     "output_type": "execute_result"
    }
   ],
   "source": [
    "# print out words\n",
    "tf_selected_words"
   ]
  },
  {
   "cell_type": "markdown",
   "metadata": {
    "id": "XEcwtws5E8U8"
   },
   "source": [
    "# Part 4: K-means clustering"
   ]
  },
  {
   "cell_type": "code",
   "execution_count": 21,
   "metadata": {
    "id": "7LJQ5i3IE8U9",
    "scrolled": true
   },
   "outputs": [
    {
     "name": "stderr",
     "output_type": "stream",
     "text": [
      "C:\\Users\\86186\\anaconda3\\lib\\site-packages\\sklearn\\cluster\\_kmeans.py:870: FutureWarning: The default value of `n_init` will change from 10 to 'auto' in 1.4. Set the value of `n_init` explicitly to suppress the warning\n",
      "  warnings.warn(\n"
     ]
    }
   ],
   "source": [
    "# k-means clustering\n",
    "from sklearn.cluster import KMeans\n",
    "\n",
    "num_clusters = 5\n",
    "\n",
    "# number of clusters\n",
    "km = KMeans(n_clusters=num_clusters)\n",
    "km.fit(tfidf_matrix)\n",
    "\n",
    "clusters = km.labels_.tolist()"
   ]
  },
  {
   "cell_type": "markdown",
   "metadata": {
    "id": "fboVpRAfE8U-"
   },
   "source": [
    "## 4.1. Analyze K-means Result"
   ]
  },
  {
   "cell_type": "code",
   "execution_count": 22,
   "metadata": {
    "id": "KGs4aIIME8U_"
   },
   "outputs": [],
   "source": [
    "# create DataFrame films from all of the input files.\n",
    "product = { 'review': df[:1000].review_body, 'cluster': clusters}\n",
    "frame = pd.DataFrame(product, columns = ['review', 'cluster'])"
   ]
  },
  {
   "cell_type": "code",
   "execution_count": 23,
   "metadata": {
    "colab": {
     "base_uri": "https://localhost:8080/",
     "height": 359
    },
    "id": "APmEUmm6E8VC",
    "outputId": "6be6cbc0-44ad-4373-de07-32aa70d1b834"
   },
   "outputs": [
    {
     "data": {
      "text/html": [
       "<div>\n",
       "<style scoped>\n",
       "    .dataframe tbody tr th:only-of-type {\n",
       "        vertical-align: middle;\n",
       "    }\n",
       "\n",
       "    .dataframe tbody tr th {\n",
       "        vertical-align: top;\n",
       "    }\n",
       "\n",
       "    .dataframe thead th {\n",
       "        text-align: right;\n",
       "    }\n",
       "</style>\n",
       "<table border=\"1\" class=\"dataframe\">\n",
       "  <thead>\n",
       "    <tr style=\"text-align: right;\">\n",
       "      <th></th>\n",
       "      <th>review</th>\n",
       "      <th>cluster</th>\n",
       "    </tr>\n",
       "  </thead>\n",
       "  <tbody>\n",
       "    <tr>\n",
       "      <th>0</th>\n",
       "      <td>Absolutely love this watch! Get compliments al...</td>\n",
       "      <td>3</td>\n",
       "    </tr>\n",
       "    <tr>\n",
       "      <th>1</th>\n",
       "      <td>I love this watch it keeps time wonderfully.</td>\n",
       "      <td>3</td>\n",
       "    </tr>\n",
       "    <tr>\n",
       "      <th>2</th>\n",
       "      <td>Scratches</td>\n",
       "      <td>4</td>\n",
       "    </tr>\n",
       "    <tr>\n",
       "      <th>3</th>\n",
       "      <td>It works well on me. However, I found cheaper ...</td>\n",
       "      <td>4</td>\n",
       "    </tr>\n",
       "    <tr>\n",
       "      <th>4</th>\n",
       "      <td>Beautiful watch face.  The band looks nice all...</td>\n",
       "      <td>4</td>\n",
       "    </tr>\n",
       "    <tr>\n",
       "      <th>5</th>\n",
       "      <td>i love this watch for my purpose, about the pe...</td>\n",
       "      <td>3</td>\n",
       "    </tr>\n",
       "    <tr>\n",
       "      <th>6</th>\n",
       "      <td>for my wife and she loved it, looks great and ...</td>\n",
       "      <td>0</td>\n",
       "    </tr>\n",
       "    <tr>\n",
       "      <th>7</th>\n",
       "      <td>I was about to buy this thinking it was a Swis...</td>\n",
       "      <td>4</td>\n",
       "    </tr>\n",
       "    <tr>\n",
       "      <th>8</th>\n",
       "      <td>Watch is perfect. Rugged with the metal &amp;#34;B...</td>\n",
       "      <td>0</td>\n",
       "    </tr>\n",
       "    <tr>\n",
       "      <th>9</th>\n",
       "      <td>Great quality and build.&lt;br /&gt;The motors are r...</td>\n",
       "      <td>4</td>\n",
       "    </tr>\n",
       "  </tbody>\n",
       "</table>\n",
       "</div>"
      ],
      "text/plain": [
       "                                              review  cluster\n",
       "0  Absolutely love this watch! Get compliments al...        3\n",
       "1       I love this watch it keeps time wonderfully.        3\n",
       "2                                          Scratches        4\n",
       "3  It works well on me. However, I found cheaper ...        4\n",
       "4  Beautiful watch face.  The band looks nice all...        4\n",
       "5  i love this watch for my purpose, about the pe...        3\n",
       "6  for my wife and she loved it, looks great and ...        0\n",
       "7  I was about to buy this thinking it was a Swis...        4\n",
       "8  Watch is perfect. Rugged with the metal &#34;B...        0\n",
       "9  Great quality and build.<br />The motors are r...        4"
      ]
     },
     "execution_count": 23,
     "metadata": {},
     "output_type": "execute_result"
    }
   ],
   "source": [
    "frame.head(10)"
   ]
  },
  {
   "cell_type": "code",
   "execution_count": 24,
   "metadata": {
    "colab": {
     "base_uri": "https://localhost:8080/",
     "height": 221
    },
    "id": "Ht1SbbOSE8VE",
    "outputId": "6f2c76b6-ca37-449a-b424-b9dca197ef4d"
   },
   "outputs": [
    {
     "name": "stdout",
     "output_type": "stream",
     "text": [
      "Number of reviews included in each cluster:\n"
     ]
    },
    {
     "data": {
      "text/html": [
       "<div>\n",
       "<style scoped>\n",
       "    .dataframe tbody tr th:only-of-type {\n",
       "        vertical-align: middle;\n",
       "    }\n",
       "\n",
       "    .dataframe tbody tr th {\n",
       "        vertical-align: top;\n",
       "    }\n",
       "\n",
       "    .dataframe thead th {\n",
       "        text-align: right;\n",
       "    }\n",
       "</style>\n",
       "<table border=\"1\" class=\"dataframe\">\n",
       "  <thead>\n",
       "    <tr style=\"text-align: right;\">\n",
       "      <th></th>\n",
       "      <th>cluster</th>\n",
       "    </tr>\n",
       "  </thead>\n",
       "  <tbody>\n",
       "    <tr>\n",
       "      <th>4</th>\n",
       "      <td>667</td>\n",
       "    </tr>\n",
       "    <tr>\n",
       "      <th>3</th>\n",
       "      <td>111</td>\n",
       "    </tr>\n",
       "    <tr>\n",
       "      <th>0</th>\n",
       "      <td>85</td>\n",
       "    </tr>\n",
       "    <tr>\n",
       "      <th>2</th>\n",
       "      <td>75</td>\n",
       "    </tr>\n",
       "    <tr>\n",
       "      <th>1</th>\n",
       "      <td>62</td>\n",
       "    </tr>\n",
       "  </tbody>\n",
       "</table>\n",
       "</div>"
      ],
      "text/plain": [
       "   cluster\n",
       "4      667\n",
       "3      111\n",
       "0       85\n",
       "2       75\n",
       "1       62"
      ]
     },
     "execution_count": 24,
     "metadata": {},
     "output_type": "execute_result"
    }
   ],
   "source": [
    "print (\"Number of reviews included in each cluster:\")\n",
    "frame['cluster'].value_counts().to_frame()"
   ]
  },
  {
   "cell_type": "code",
   "execution_count": 25,
   "metadata": {
    "colab": {
     "base_uri": "https://localhost:8080/"
    },
    "id": "phDfUdh5qL9G",
    "outputId": "13810159-6c8a-403a-ed91-60c345bc8684"
   },
   "outputs": [
    {
     "data": {
      "text/plain": [
       "array([[0.00379401, 0.        , 0.        , ..., 0.00262203, 0.        ,\n",
       "        0.02286126],\n",
       "       [0.        , 0.        , 0.        , ..., 0.        , 0.00784247,\n",
       "        0.        ],\n",
       "       [0.        , 0.        , 0.        , ..., 0.        , 0.00874405,\n",
       "        0.        ],\n",
       "       [0.        , 0.04125958, 0.        , ..., 0.01222159, 0.01717547,\n",
       "        0.00400254],\n",
       "       [0.00565643, 0.00437174, 0.00382872, ..., 0.00653108, 0.01801031,\n",
       "        0.01380752]])"
      ]
     },
     "execution_count": 25,
     "metadata": {},
     "output_type": "execute_result"
    }
   ],
   "source": [
    "km.cluster_centers_"
   ]
  },
  {
   "cell_type": "code",
   "execution_count": 26,
   "metadata": {
    "colab": {
     "base_uri": "https://localhost:8080/"
    },
    "id": "vrTpBeYFuIn5",
    "outputId": "e225f691-5b1a-4710-fe0a-ca66b2075db3"
   },
   "outputs": [
    {
     "data": {
      "text/plain": [
       "(5, 239)"
      ]
     },
     "execution_count": 26,
     "metadata": {},
     "output_type": "execute_result"
    }
   ],
   "source": [
    "km.cluster_centers_.shape"
   ]
  },
  {
   "cell_type": "code",
   "execution_count": 38,
   "metadata": {
    "colab": {
     "base_uri": "https://localhost:8080/"
    },
    "id": "tQg0CF11chKK",
    "outputId": "9c4788b6-e293-46d0-ee7f-532b571d591a"
   },
   "outputs": [
    {
     "name": "stdout",
     "output_type": "stream",
     "text": [
      "<Document clustering result by K-means>\n",
      "Cluster 0 words:great,look,price,work,product,comfort,Cluster 1 words:nice,price,look,realli,simpl,good,Cluster 2 words:good,product,price,qualiti,love,work,Cluster 3 words:love,wife,look,husband,absolut,beauti,Cluster 4 words:look,like,work,band,time,beauti,"
     ]
    }
   ],
   "source": [
    "print (\"<Document clustering result by K-means>\")\n",
    "\n",
    "#km.cluster_centers_ denotes the importances of each items in centroid.\n",
    "#We need to sort it in decreasing-order and get the top k items.\n",
    "order_centroids = km.cluster_centers_.argsort()[:, ::-1] \n",
    "\n",
    "Cluster_keywords_summary = {}\n",
    "for i in range(num_clusters):\n",
    "    print (\"Cluster \" + str(i) + \" words:\", end='')\n",
    "    Cluster_keywords_summary[i] = []\n",
    "    for ind in order_centroids[i, :6]: \n",
    "        Cluster_keywords_summary[i].append(tf_selected_words[ind])\n",
    "        print (tf_selected_words[ind] + \",\", end='')\n",
    "#     print ()\n",
    "    \n",
    "    cluster_reviews = frame[frame.cluster==i].review.tolist()\n",
    "#     print (\"Cluster \" + str(i) + \" reviews (\" + str(len(cluster_reviews)) + \" reviews): \")\n",
    "#     print (\", \".join(cluster_reviews))\n",
    "#     print ()"
   ]
  },
  {
   "cell_type": "markdown",
   "metadata": {
    "id": "oYOZXL53E8VV"
   },
   "source": [
    "# Part 5: Topic Modeling - Latent Dirichlet Allocation"
   ]
  },
  {
   "cell_type": "code",
   "execution_count": 39,
   "metadata": {
    "id": "lBPVbFNFE8VW"
   },
   "outputs": [],
   "source": [
    "# Use LDA for clustering\n",
    "from sklearn.decomposition import LatentDirichletAllocation\n",
    "lda = LatentDirichletAllocation(n_components=5)"
   ]
  },
  {
   "cell_type": "code",
   "execution_count": 40,
   "metadata": {
    "colab": {
     "base_uri": "https://localhost:8080/"
    },
    "id": "9PU80SW391II",
    "outputId": "7d1bec4c-db59-452b-df0a-6d1d971b651f"
   },
   "outputs": [
    {
     "name": "stdout",
     "output_type": "stream",
     "text": [
      "(1000, 5)\n",
      "[[0.20973007 0.06251476 0.23797785 0.05996152 0.4298158 ]\n",
      " [0.08421691 0.08887731 0.08585954 0.08378519 0.65726106]\n",
      " [0.2        0.2        0.2        0.2        0.2       ]\n",
      " ...\n",
      " [0.10000029 0.10010384 0.59989532 0.10000031 0.10000024]\n",
      " [0.06688115 0.06848949 0.07199443 0.71615793 0.07647699]\n",
      " [0.06881643 0.72740367 0.06737028 0.06723656 0.06917306]]\n"
     ]
    }
   ],
   "source": [
    "# document topic matrix for tfidf_matrix_lda\n",
    "lda_output = lda.fit_transform(tfidf_matrix)\n",
    "print(lda_output.shape)\n",
    "print(lda_output)"
   ]
  },
  {
   "cell_type": "code",
   "execution_count": 41,
   "metadata": {
    "colab": {
     "base_uri": "https://localhost:8080/"
    },
    "id": "hCJs3lBz90vY",
    "outputId": "4aa0234b-8886-44a6-8705-bfc5cb20a03e",
    "scrolled": true
   },
   "outputs": [
    {
     "name": "stdout",
     "output_type": "stream",
     "text": [
      "(5, 239)\n",
      "[[ 0.20100798  0.20085356  0.20036621 ...  0.20292827  1.07014988\n",
      "   2.35316522]\n",
      " [ 2.59298323  0.21035856  2.75185389 ...  1.98582976 11.03571106\n",
      "   9.63319722]\n",
      " [ 0.20012333  0.2005438   0.20012406 ...  0.20108446  3.16770653\n",
      "   0.20914669]\n",
      " [ 1.90038756  0.25580347  0.20137576 ...  4.34508237  0.58592423\n",
      "   0.20134701]\n",
      " [ 0.20082497  7.62820344  0.20003517 ...  0.20077245  0.2018961\n",
      "   0.20024932]]\n"
     ]
    }
   ],
   "source": [
    "# topics and words matrix\n",
    "topic_word = lda.components_\n",
    "print(topic_word.shape)\n",
    "print(topic_word)"
   ]
  },
  {
   "cell_type": "code",
   "execution_count": 42,
   "metadata": {
    "colab": {
     "base_uri": "https://localhost:8080/",
     "height": 359
    },
    "id": "xCEVfJS5AEgx",
    "outputId": "121e55f7-183a-4778-9651-7ba18fc13729"
   },
   "outputs": [
    {
     "data": {
      "text/html": [
       "<div>\n",
       "<style scoped>\n",
       "    .dataframe tbody tr th:only-of-type {\n",
       "        vertical-align: middle;\n",
       "    }\n",
       "\n",
       "    .dataframe tbody tr th {\n",
       "        vertical-align: top;\n",
       "    }\n",
       "\n",
       "    .dataframe thead th {\n",
       "        text-align: right;\n",
       "    }\n",
       "</style>\n",
       "<table border=\"1\" class=\"dataframe\">\n",
       "  <thead>\n",
       "    <tr style=\"text-align: right;\">\n",
       "      <th></th>\n",
       "      <th>Topic0</th>\n",
       "      <th>Topic1</th>\n",
       "      <th>Topic2</th>\n",
       "      <th>Topic3</th>\n",
       "      <th>Topic4</th>\n",
       "      <th>topic</th>\n",
       "    </tr>\n",
       "  </thead>\n",
       "  <tbody>\n",
       "    <tr>\n",
       "      <th>Doc0</th>\n",
       "      <td>0.21</td>\n",
       "      <td>0.06</td>\n",
       "      <td>0.24</td>\n",
       "      <td>0.06</td>\n",
       "      <td>0.43</td>\n",
       "      <td>4</td>\n",
       "    </tr>\n",
       "    <tr>\n",
       "      <th>Doc1</th>\n",
       "      <td>0.08</td>\n",
       "      <td>0.09</td>\n",
       "      <td>0.09</td>\n",
       "      <td>0.08</td>\n",
       "      <td>0.66</td>\n",
       "      <td>4</td>\n",
       "    </tr>\n",
       "    <tr>\n",
       "      <th>Doc2</th>\n",
       "      <td>0.20</td>\n",
       "      <td>0.20</td>\n",
       "      <td>0.20</td>\n",
       "      <td>0.20</td>\n",
       "      <td>0.20</td>\n",
       "      <td>0</td>\n",
       "    </tr>\n",
       "    <tr>\n",
       "      <th>Doc3</th>\n",
       "      <td>0.06</td>\n",
       "      <td>0.76</td>\n",
       "      <td>0.06</td>\n",
       "      <td>0.06</td>\n",
       "      <td>0.06</td>\n",
       "      <td>1</td>\n",
       "    </tr>\n",
       "    <tr>\n",
       "      <th>Doc4</th>\n",
       "      <td>0.04</td>\n",
       "      <td>0.84</td>\n",
       "      <td>0.04</td>\n",
       "      <td>0.04</td>\n",
       "      <td>0.04</td>\n",
       "      <td>1</td>\n",
       "    </tr>\n",
       "    <tr>\n",
       "      <th>Doc5</th>\n",
       "      <td>0.07</td>\n",
       "      <td>0.08</td>\n",
       "      <td>0.68</td>\n",
       "      <td>0.08</td>\n",
       "      <td>0.10</td>\n",
       "      <td>2</td>\n",
       "    </tr>\n",
       "    <tr>\n",
       "      <th>Doc6</th>\n",
       "      <td>0.70</td>\n",
       "      <td>0.06</td>\n",
       "      <td>0.06</td>\n",
       "      <td>0.06</td>\n",
       "      <td>0.11</td>\n",
       "      <td>0</td>\n",
       "    </tr>\n",
       "    <tr>\n",
       "      <th>Doc7</th>\n",
       "      <td>0.06</td>\n",
       "      <td>0.75</td>\n",
       "      <td>0.06</td>\n",
       "      <td>0.06</td>\n",
       "      <td>0.06</td>\n",
       "      <td>1</td>\n",
       "    </tr>\n",
       "    <tr>\n",
       "      <th>Doc8</th>\n",
       "      <td>0.21</td>\n",
       "      <td>0.66</td>\n",
       "      <td>0.04</td>\n",
       "      <td>0.04</td>\n",
       "      <td>0.04</td>\n",
       "      <td>1</td>\n",
       "    </tr>\n",
       "    <tr>\n",
       "      <th>Doc9</th>\n",
       "      <td>0.06</td>\n",
       "      <td>0.77</td>\n",
       "      <td>0.06</td>\n",
       "      <td>0.06</td>\n",
       "      <td>0.06</td>\n",
       "      <td>1</td>\n",
       "    </tr>\n",
       "  </tbody>\n",
       "</table>\n",
       "</div>"
      ],
      "text/plain": [
       "      Topic0  Topic1  Topic2  Topic3  Topic4  topic\n",
       "Doc0    0.21    0.06    0.24    0.06    0.43      4\n",
       "Doc1    0.08    0.09    0.09    0.08    0.66      4\n",
       "Doc2    0.20    0.20    0.20    0.20    0.20      0\n",
       "Doc3    0.06    0.76    0.06    0.06    0.06      1\n",
       "Doc4    0.04    0.84    0.04    0.04    0.04      1\n",
       "Doc5    0.07    0.08    0.68    0.08    0.10      2\n",
       "Doc6    0.70    0.06    0.06    0.06    0.11      0\n",
       "Doc7    0.06    0.75    0.06    0.06    0.06      1\n",
       "Doc8    0.21    0.66    0.04    0.04    0.04      1\n",
       "Doc9    0.06    0.77    0.06    0.06    0.06      1"
      ]
     },
     "execution_count": 42,
     "metadata": {},
     "output_type": "execute_result"
    }
   ],
   "source": [
    "# column names\n",
    "topic_names = [\"Topic\" + str(i) for i in range(lda.n_components)]\n",
    "\n",
    "# index names\n",
    "doc_names = [\"Doc\" + str(i) for i in range(len(data))]\n",
    "\n",
    "df_document_topic = pd.DataFrame(np.round(lda_output, 2), columns=topic_names, index=doc_names)\n",
    "\n",
    "# get dominant topic for each document\n",
    "topic = np.argmax(df_document_topic.values, axis=1)\n",
    "df_document_topic['topic'] = topic\n",
    "\n",
    "df_document_topic.head(10)"
   ]
  },
  {
   "cell_type": "code",
   "execution_count": 43,
   "metadata": {
    "colab": {
     "base_uri": "https://localhost:8080/",
     "height": 204
    },
    "id": "InPLDW7kBSOc",
    "outputId": "af2982a4-87ca-4d3d-f1e8-8085910daa8b"
   },
   "outputs": [
    {
     "data": {
      "text/html": [
       "<div>\n",
       "<style scoped>\n",
       "    .dataframe tbody tr th:only-of-type {\n",
       "        vertical-align: middle;\n",
       "    }\n",
       "\n",
       "    .dataframe tbody tr th {\n",
       "        vertical-align: top;\n",
       "    }\n",
       "\n",
       "    .dataframe thead th {\n",
       "        text-align: right;\n",
       "    }\n",
       "</style>\n",
       "<table border=\"1\" class=\"dataframe\">\n",
       "  <thead>\n",
       "    <tr style=\"text-align: right;\">\n",
       "      <th></th>\n",
       "      <th>topic</th>\n",
       "    </tr>\n",
       "  </thead>\n",
       "  <tbody>\n",
       "    <tr>\n",
       "      <th>1</th>\n",
       "      <td>417</td>\n",
       "    </tr>\n",
       "    <tr>\n",
       "      <th>0</th>\n",
       "      <td>165</td>\n",
       "    </tr>\n",
       "    <tr>\n",
       "      <th>4</th>\n",
       "      <td>157</td>\n",
       "    </tr>\n",
       "    <tr>\n",
       "      <th>2</th>\n",
       "      <td>149</td>\n",
       "    </tr>\n",
       "    <tr>\n",
       "      <th>3</th>\n",
       "      <td>112</td>\n",
       "    </tr>\n",
       "  </tbody>\n",
       "</table>\n",
       "</div>"
      ],
      "text/plain": [
       "   topic\n",
       "1    417\n",
       "0    165\n",
       "4    157\n",
       "2    149\n",
       "3    112"
      ]
     },
     "execution_count": 43,
     "metadata": {},
     "output_type": "execute_result"
    }
   ],
   "source": [
    "df_document_topic['topic'].value_counts().to_frame()"
   ]
  },
  {
   "cell_type": "code",
   "execution_count": 44,
   "metadata": {
    "colab": {
     "base_uri": "https://localhost:8080/",
     "height": 338
    },
    "id": "_yLe_RFHCz0a",
    "outputId": "d85f51fd-f17b-4988-f2a6-7fe063765340"
   },
   "outputs": [
    {
     "name": "stdout",
     "output_type": "stream",
     "text": [
      "[[ 0.20100798  0.20085356  0.20036621 ...  0.20292827  1.07014988\n",
      "   2.35316522]\n",
      " [ 2.59298323  0.21035856  2.75185389 ...  1.98582976 11.03571106\n",
      "   9.63319722]\n",
      " [ 0.20012333  0.2005438   0.20012406 ...  0.20108446  3.16770653\n",
      "   0.20914669]\n",
      " [ 1.90038756  0.25580347  0.20137576 ...  4.34508237  0.58592423\n",
      "   0.20134701]\n",
      " [ 0.20082497  7.62820344  0.20003517 ...  0.20077245  0.2018961\n",
      "   0.20024932]]\n"
     ]
    },
    {
     "data": {
      "text/html": [
       "<div>\n",
       "<style scoped>\n",
       "    .dataframe tbody tr th:only-of-type {\n",
       "        vertical-align: middle;\n",
       "    }\n",
       "\n",
       "    .dataframe tbody tr th {\n",
       "        vertical-align: top;\n",
       "    }\n",
       "\n",
       "    .dataframe thead th {\n",
       "        text-align: right;\n",
       "    }\n",
       "</style>\n",
       "<table border=\"1\" class=\"dataframe\">\n",
       "  <thead>\n",
       "    <tr style=\"text-align: right;\">\n",
       "      <th></th>\n",
       "      <th>abl</th>\n",
       "      <th>absolut</th>\n",
       "      <th>accur</th>\n",
       "      <th>actual</th>\n",
       "      <th>adjust</th>\n",
       "      <th>alarm</th>\n",
       "      <th>alreadi</th>\n",
       "      <th>alway</th>\n",
       "      <th>amaz</th>\n",
       "      <th>amazon</th>\n",
       "      <th>...</th>\n",
       "      <th>weight</th>\n",
       "      <th>went</th>\n",
       "      <th>wife</th>\n",
       "      <th>wind</th>\n",
       "      <th>wish</th>\n",
       "      <th>work</th>\n",
       "      <th>worn</th>\n",
       "      <th>worth</th>\n",
       "      <th>wrist</th>\n",
       "      <th>year</th>\n",
       "    </tr>\n",
       "  </thead>\n",
       "  <tbody>\n",
       "    <tr>\n",
       "      <th>Topic0</th>\n",
       "      <td>0.201008</td>\n",
       "      <td>0.200854</td>\n",
       "      <td>0.200366</td>\n",
       "      <td>1.351726</td>\n",
       "      <td>0.201727</td>\n",
       "      <td>0.200107</td>\n",
       "      <td>0.200460</td>\n",
       "      <td>2.029179</td>\n",
       "      <td>0.204513</td>\n",
       "      <td>0.212412</td>\n",
       "      <td>...</td>\n",
       "      <td>0.204188</td>\n",
       "      <td>0.200985</td>\n",
       "      <td>11.836941</td>\n",
       "      <td>0.200073</td>\n",
       "      <td>0.254360</td>\n",
       "      <td>12.669303</td>\n",
       "      <td>0.200454</td>\n",
       "      <td>0.202928</td>\n",
       "      <td>1.070150</td>\n",
       "      <td>2.353165</td>\n",
       "    </tr>\n",
       "    <tr>\n",
       "      <th>Topic1</th>\n",
       "      <td>2.592983</td>\n",
       "      <td>0.210359</td>\n",
       "      <td>2.751854</td>\n",
       "      <td>3.130763</td>\n",
       "      <td>5.488979</td>\n",
       "      <td>3.451471</td>\n",
       "      <td>0.211176</td>\n",
       "      <td>2.182212</td>\n",
       "      <td>0.207808</td>\n",
       "      <td>5.604948</td>\n",
       "      <td>...</td>\n",
       "      <td>1.845533</td>\n",
       "      <td>2.915399</td>\n",
       "      <td>0.202791</td>\n",
       "      <td>3.430855</td>\n",
       "      <td>3.058911</td>\n",
       "      <td>18.779266</td>\n",
       "      <td>2.793635</td>\n",
       "      <td>1.985830</td>\n",
       "      <td>11.035711</td>\n",
       "      <td>9.633197</td>\n",
       "    </tr>\n",
       "    <tr>\n",
       "      <th>Topic2</th>\n",
       "      <td>0.200123</td>\n",
       "      <td>0.200544</td>\n",
       "      <td>0.200124</td>\n",
       "      <td>0.201253</td>\n",
       "      <td>0.200225</td>\n",
       "      <td>1.886171</td>\n",
       "      <td>0.203324</td>\n",
       "      <td>0.201593</td>\n",
       "      <td>0.202471</td>\n",
       "      <td>0.201022</td>\n",
       "      <td>...</td>\n",
       "      <td>3.266989</td>\n",
       "      <td>0.200271</td>\n",
       "      <td>0.200228</td>\n",
       "      <td>0.200079</td>\n",
       "      <td>0.202336</td>\n",
       "      <td>5.794641</td>\n",
       "      <td>0.200380</td>\n",
       "      <td>0.201084</td>\n",
       "      <td>3.167707</td>\n",
       "      <td>0.209147</td>\n",
       "    </tr>\n",
       "    <tr>\n",
       "      <th>Topic3</th>\n",
       "      <td>1.900388</td>\n",
       "      <td>0.255803</td>\n",
       "      <td>0.201376</td>\n",
       "      <td>0.205139</td>\n",
       "      <td>0.201141</td>\n",
       "      <td>0.202597</td>\n",
       "      <td>4.947876</td>\n",
       "      <td>0.225816</td>\n",
       "      <td>0.989908</td>\n",
       "      <td>0.583345</td>\n",
       "      <td>...</td>\n",
       "      <td>0.200353</td>\n",
       "      <td>0.200462</td>\n",
       "      <td>0.200884</td>\n",
       "      <td>0.202000</td>\n",
       "      <td>0.854161</td>\n",
       "      <td>3.617281</td>\n",
       "      <td>0.200116</td>\n",
       "      <td>4.345082</td>\n",
       "      <td>0.585924</td>\n",
       "      <td>0.201347</td>\n",
       "    </tr>\n",
       "    <tr>\n",
       "      <th>Topic4</th>\n",
       "      <td>0.200825</td>\n",
       "      <td>7.628203</td>\n",
       "      <td>0.200035</td>\n",
       "      <td>0.967516</td>\n",
       "      <td>0.201099</td>\n",
       "      <td>0.200066</td>\n",
       "      <td>0.200533</td>\n",
       "      <td>0.201204</td>\n",
       "      <td>9.164135</td>\n",
       "      <td>0.200813</td>\n",
       "      <td>...</td>\n",
       "      <td>0.201299</td>\n",
       "      <td>0.200057</td>\n",
       "      <td>0.201554</td>\n",
       "      <td>0.200701</td>\n",
       "      <td>0.200741</td>\n",
       "      <td>0.201176</td>\n",
       "      <td>0.808508</td>\n",
       "      <td>0.200772</td>\n",
       "      <td>0.201896</td>\n",
       "      <td>0.200249</td>\n",
       "    </tr>\n",
       "  </tbody>\n",
       "</table>\n",
       "<p>5 rows × 239 columns</p>\n",
       "</div>"
      ],
      "text/plain": [
       "             abl   absolut     accur    actual    adjust     alarm   alreadi  \\\n",
       "Topic0  0.201008  0.200854  0.200366  1.351726  0.201727  0.200107  0.200460   \n",
       "Topic1  2.592983  0.210359  2.751854  3.130763  5.488979  3.451471  0.211176   \n",
       "Topic2  0.200123  0.200544  0.200124  0.201253  0.200225  1.886171  0.203324   \n",
       "Topic3  1.900388  0.255803  0.201376  0.205139  0.201141  0.202597  4.947876   \n",
       "Topic4  0.200825  7.628203  0.200035  0.967516  0.201099  0.200066  0.200533   \n",
       "\n",
       "           alway      amaz    amazon  ...    weight      went       wife  \\\n",
       "Topic0  2.029179  0.204513  0.212412  ...  0.204188  0.200985  11.836941   \n",
       "Topic1  2.182212  0.207808  5.604948  ...  1.845533  2.915399   0.202791   \n",
       "Topic2  0.201593  0.202471  0.201022  ...  3.266989  0.200271   0.200228   \n",
       "Topic3  0.225816  0.989908  0.583345  ...  0.200353  0.200462   0.200884   \n",
       "Topic4  0.201204  9.164135  0.200813  ...  0.201299  0.200057   0.201554   \n",
       "\n",
       "            wind      wish       work      worn     worth      wrist      year  \n",
       "Topic0  0.200073  0.254360  12.669303  0.200454  0.202928   1.070150  2.353165  \n",
       "Topic1  3.430855  3.058911  18.779266  2.793635  1.985830  11.035711  9.633197  \n",
       "Topic2  0.200079  0.202336   5.794641  0.200380  0.201084   3.167707  0.209147  \n",
       "Topic3  0.202000  0.854161   3.617281  0.200116  4.345082   0.585924  0.201347  \n",
       "Topic4  0.200701  0.200741   0.201176  0.808508  0.200772   0.201896  0.200249  \n",
       "\n",
       "[5 rows x 239 columns]"
      ]
     },
     "execution_count": 44,
     "metadata": {},
     "output_type": "execute_result"
    }
   ],
   "source": [
    "# topic word matrix\n",
    "print(lda.components_)\n",
    "# topic-word matrix\n",
    "df_topic_words = pd.DataFrame(lda.components_)\n",
    "\n",
    "# column and index\n",
    "df_topic_words.columns = tfidf_model.get_feature_names_out()\n",
    "df_topic_words.index = topic_names\n",
    "\n",
    "df_topic_words.head()"
   ]
  },
  {
   "cell_type": "code",
   "execution_count": 45,
   "metadata": {
    "colab": {
     "base_uri": "https://localhost:8080/",
     "height": 204
    },
    "id": "gbU9U8V-DFDX",
    "outputId": "f9c2697c-1097-475f-8094-180e92fcccb0"
   },
   "outputs": [
    {
     "data": {
      "text/html": [
       "<div>\n",
       "<style scoped>\n",
       "    .dataframe tbody tr th:only-of-type {\n",
       "        vertical-align: middle;\n",
       "    }\n",
       "\n",
       "    .dataframe tbody tr th {\n",
       "        vertical-align: top;\n",
       "    }\n",
       "\n",
       "    .dataframe thead th {\n",
       "        text-align: right;\n",
       "    }\n",
       "</style>\n",
       "<table border=\"1\" class=\"dataframe\">\n",
       "  <thead>\n",
       "    <tr style=\"text-align: right;\">\n",
       "      <th></th>\n",
       "      <th>Word 0</th>\n",
       "      <th>Word 1</th>\n",
       "      <th>Word 2</th>\n",
       "      <th>Word 3</th>\n",
       "      <th>Word 4</th>\n",
       "      <th>Word 5</th>\n",
       "      <th>Word 6</th>\n",
       "      <th>Word 7</th>\n",
       "      <th>Word 8</th>\n",
       "      <th>Word 9</th>\n",
       "      <th>Word 10</th>\n",
       "      <th>Word 11</th>\n",
       "      <th>Word 12</th>\n",
       "      <th>Word 13</th>\n",
       "      <th>Word 14</th>\n",
       "    </tr>\n",
       "  </thead>\n",
       "  <tbody>\n",
       "    <tr>\n",
       "      <th>Topic 0</th>\n",
       "      <td>great</td>\n",
       "      <td>excel</td>\n",
       "      <td>perfect</td>\n",
       "      <td>work</td>\n",
       "      <td>look</td>\n",
       "      <td>wife</td>\n",
       "      <td>price</td>\n",
       "      <td>deal</td>\n",
       "      <td>thank</td>\n",
       "      <td>want</td>\n",
       "      <td>ship</td>\n",
       "      <td>compliment</td>\n",
       "      <td>cool</td>\n",
       "      <td>feel</td>\n",
       "      <td>fit</td>\n",
       "    </tr>\n",
       "    <tr>\n",
       "      <th>Topic 1</th>\n",
       "      <td>time</td>\n",
       "      <td>look</td>\n",
       "      <td>band</td>\n",
       "      <td>work</td>\n",
       "      <td>like</td>\n",
       "      <td>wear</td>\n",
       "      <td>use</td>\n",
       "      <td>face</td>\n",
       "      <td>day</td>\n",
       "      <td>easi</td>\n",
       "      <td>great</td>\n",
       "      <td>big</td>\n",
       "      <td>size</td>\n",
       "      <td>read</td>\n",
       "      <td>hand</td>\n",
       "    </tr>\n",
       "    <tr>\n",
       "      <th>Topic 2</th>\n",
       "      <td>good</td>\n",
       "      <td>like</td>\n",
       "      <td>band</td>\n",
       "      <td>strap</td>\n",
       "      <td>look</td>\n",
       "      <td>fine</td>\n",
       "      <td>qualiti</td>\n",
       "      <td>price</td>\n",
       "      <td>buy</td>\n",
       "      <td>invicta</td>\n",
       "      <td>leather</td>\n",
       "      <td>work</td>\n",
       "      <td>watch</td>\n",
       "      <td>time</td>\n",
       "      <td>long</td>\n",
       "    </tr>\n",
       "    <tr>\n",
       "      <th>Topic 3</th>\n",
       "      <td>product</td>\n",
       "      <td>expect</td>\n",
       "      <td>beauti</td>\n",
       "      <td>seller</td>\n",
       "      <td>deliveri</td>\n",
       "      <td>stylish</td>\n",
       "      <td>exact</td>\n",
       "      <td>clock</td>\n",
       "      <td>price</td>\n",
       "      <td>batteri</td>\n",
       "      <td>fast</td>\n",
       "      <td>box</td>\n",
       "      <td>better</td>\n",
       "      <td>pleas</td>\n",
       "      <td>pictur</td>\n",
       "    </tr>\n",
       "    <tr>\n",
       "      <th>Topic 4</th>\n",
       "      <td>love</td>\n",
       "      <td>nice</td>\n",
       "      <td>realli</td>\n",
       "      <td>awesom</td>\n",
       "      <td>amaz</td>\n",
       "      <td>gift</td>\n",
       "      <td>beauti</td>\n",
       "      <td>absolut</td>\n",
       "      <td>pretti</td>\n",
       "      <td>bought</td>\n",
       "      <td>recommend</td>\n",
       "      <td>super</td>\n",
       "      <td>light</td>\n",
       "      <td>look</td>\n",
       "      <td>wear</td>\n",
       "    </tr>\n",
       "  </tbody>\n",
       "</table>\n",
       "</div>"
      ],
      "text/plain": [
       "          Word 0  Word 1   Word 2  Word 3    Word 4   Word 5   Word 6  \\\n",
       "Topic 0    great   excel  perfect    work      look     wife    price   \n",
       "Topic 1     time    look     band    work      like     wear      use   \n",
       "Topic 2     good    like     band   strap      look     fine  qualiti   \n",
       "Topic 3  product  expect   beauti  seller  deliveri  stylish    exact   \n",
       "Topic 4     love    nice   realli  awesom      amaz     gift   beauti   \n",
       "\n",
       "          Word 7  Word 8   Word 9    Word 10     Word 11 Word 12 Word 13  \\\n",
       "Topic 0     deal   thank     want       ship  compliment    cool    feel   \n",
       "Topic 1     face     day     easi      great         big    size    read   \n",
       "Topic 2    price     buy  invicta    leather        work   watch    time   \n",
       "Topic 3    clock   price  batteri       fast         box  better   pleas   \n",
       "Topic 4  absolut  pretti   bought  recommend       super   light    look   \n",
       "\n",
       "        Word 14  \n",
       "Topic 0     fit  \n",
       "Topic 1    hand  \n",
       "Topic 2    long  \n",
       "Topic 3  pictur  \n",
       "Topic 4    wear  "
      ]
     },
     "execution_count": 45,
     "metadata": {},
     "output_type": "execute_result"
    }
   ],
   "source": [
    "# print top n keywords for each topic\n",
    "def print_topic_words(tfidf_model, lda_model, n_words):\n",
    "    words = np.array(tfidf_model.get_feature_names_out())\n",
    "    topic_words = []\n",
    "    # for each topic, we have words weight\n",
    "    for topic_words_weights in lda_model.components_:\n",
    "        top_words = topic_words_weights.argsort()[::-1][:n_words]\n",
    "        topic_words.append(words.take(top_words))\n",
    "    return topic_words\n",
    "\n",
    "topic_keywords = print_topic_words(tfidf_model=tfidf_model, lda_model=lda, n_words=15)        \n",
    "\n",
    "df_topic_words = pd.DataFrame(topic_keywords)\n",
    "df_topic_words.columns = ['Word '+str(i) for i in range(df_topic_words.shape[1])]\n",
    "df_topic_words.index = ['Topic '+str(i) for i in range(df_topic_words.shape[0])]\n",
    "df_topic_words"
   ]
  }
 ],
 "metadata": {
  "colab": {
   "provenance": []
  },
  "kernelspec": {
   "display_name": "Python 3",
   "language": "python",
   "name": "python3"
  },
  "language_info": {
   "codemirror_mode": {
    "name": "ipython",
    "version": 3
   },
   "file_extension": ".py",
   "mimetype": "text/x-python",
   "name": "python",
   "nbconvert_exporter": "python",
   "pygments_lexer": "ipython3",
   "version": "3.8.5"
  }
 },
 "nbformat": 4,
 "nbformat_minor": 1
}
